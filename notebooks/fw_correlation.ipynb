{
 "cells": [
  {
   "cell_type": "code",
   "execution_count": 1,
   "metadata": {},
   "outputs": [],
   "source": [
    "import psycopg2\n",
    "from psycopg2 import sql\n",
    "import config\n",
    "import utility_funcs as tsp\n",
    "import pandas as pd\n"
   ]
  },
  {
   "cell_type": "code",
   "execution_count": 2,
   "metadata": {},
   "outputs": [],
   "source": [
    "db_credentials = config.db_credentials"
   ]
  },
  {
   "cell_type": "code",
   "execution_count": 3,
   "metadata": {},
   "outputs": [],
   "source": [
    "def get_unique_ship_type_ids(db_credentials):\n",
    "    \"\"\"\n",
    "    Fetches all unique ship_type_id values from the daily_ship_destructions table.\n",
    "\n",
    "    Parameters:\n",
    "    db_credentials (dict): Database connection credentials including dbname, user, password, host, and port.\n",
    "\n",
    "    Returns:\n",
    "    list: A list of unique ship_type_id values.\n",
    "    \"\"\"\n",
    "    try:\n",
    "        # Connect to the database\n",
    "        conn = psycopg2.connect(**db_credentials)\n",
    "        cur = conn.cursor()\n",
    "        \n",
    "        # Execute the query to get unique ship_type_ids\n",
    "        cur.execute(sql.SQL(\"SELECT DISTINCT ship_type_id FROM daily_ship_destructions\"))\n",
    "        \n",
    "        # Fetch all unique ship_type_ids\n",
    "        unique_ship_type_ids = cur.fetchall()\n",
    "        \n",
    "        # Convert the results into a simple list\n",
    "        unique_ship_type_ids_list = [row[0] for row in unique_ship_type_ids]\n",
    "        \n",
    "        return unique_ship_type_ids_list\n",
    "\n",
    "    except Exception as e:\n",
    "        print(f\"Database connection failed due to {e}\")\n",
    "        return []\n",
    "\n",
    "    finally:\n",
    "        # Clean up the database connections\n",
    "        if cur is not None:\n",
    "            cur.close()\n",
    "        if conn is not None:\n",
    "            conn.close()"
   ]
  },
  {
   "cell_type": "code",
   "execution_count": 4,
   "metadata": {},
   "outputs": [
    {
     "name": "stdout",
     "output_type": "stream",
     "text": [
      "Database connection failed due to relation \"daily_ship_destructions\" does not exist\n",
      "LINE 1: SELECT DISTINCT ship_type_id FROM daily_ship_destructions\n",
      "                                          ^\n",
      "\n",
      "0\n"
     ]
    }
   ],
   "source": [
    "unique_ship_type_ids = get_unique_ship_type_ids(db_credentials)\n",
    "print(len(unique_ship_type_ids))"
   ]
  },
  {
   "cell_type": "code",
   "execution_count": 34,
   "metadata": {},
   "outputs": [],
   "source": [
    "def get_average_prices_for_ship_types(db_credentials, type_ids=None):\n",
    "    \"\"\"\n",
    "    Fetches average prices for given ship type IDs from the daily market prices table and returns them as a DataFrame.\n",
    "\n",
    "    Parameters:\n",
    "    db_credentials (dict): Database connection credentials including dbname, user, password, host, and port.\n",
    "    type_ids (list): Optional. A list of ship type IDs to filter the query. If None, fetches from get_unique_ship_type_ids.\n",
    "\n",
    "    Returns:\n",
    "    DataFrame: A pandas DataFrame with columns ['type_id', 'average'] containing the fetched data.\n",
    "    \"\"\"\n",
    "    if type_ids is None:\n",
    "        type_ids = get_unique_ship_type_ids(db_credentials)\n",
    "    \n",
    "    try:\n",
    "        # Connect to the database\n",
    "        conn = psycopg2.connect(**db_credentials)\n",
    "        cur = conn.cursor()\n",
    "        \n",
    "        # Prepare and execute the query\n",
    "        # query = sql.SQL(\"SELECT date, region_id, type_id, volume, order_count, average FROM market_history WHERE type_id = ANY(%s)\")\n",
    "        query = sql.SQL(\"\"\"\n",
    "            SELECT date, region_id, type_id, volume, order_count, average\n",
    "            FROM market_history\n",
    "            WHERE type_id = ANY(%s) AND region_id = 10000001\n",
    "        \"\"\")\n",
    "        cur.execute(query, (type_ids,))\n",
    "        \n",
    "        # Fetch the results\n",
    "        results = cur.fetchall()\n",
    "        \n",
    "        # Convert the results to a DataFrame\n",
    "        df = pd.DataFrame(results, columns=['date', 'region_id', 'type_id', 'volume', 'order_count', 'average'])\n",
    "        \n",
    "        return df\n",
    "\n",
    "    except Exception as e:\n",
    "        print(f\"Failed to fetch data due to {e}\")\n",
    "        # Return an empty DataFrame with the appropriate columns if an error occurs\n",
    "        return pd.DataFrame(columns=['date', 'region_id', 'type_id', 'volume', 'order_count', 'average'])\n",
    "\n",
    "    finally:\n",
    "        # Clean up the database connections\n",
    "        if cur is not None:\n",
    "            cur.close()\n",
    "        if conn is not None:\n",
    "            conn.close()\n"
   ]
  },
  {
   "cell_type": "code",
   "execution_count": 35,
   "metadata": {},
   "outputs": [],
   "source": [
    "average_prices = get_average_prices_for_ship_types(db_credentials)  # or pass unique_ship_type_ids explicitly\n"
   ]
  },
  {
   "cell_type": "code",
   "execution_count": 36,
   "metadata": {},
   "outputs": [
    {
     "data": {
      "text/html": [
       "<div>\n",
       "<style scoped>\n",
       "    .dataframe tbody tr th:only-of-type {\n",
       "        vertical-align: middle;\n",
       "    }\n",
       "\n",
       "    .dataframe tbody tr th {\n",
       "        vertical-align: top;\n",
       "    }\n",
       "\n",
       "    .dataframe thead th {\n",
       "        text-align: right;\n",
       "    }\n",
       "</style>\n",
       "<table border=\"1\" class=\"dataframe\">\n",
       "  <thead>\n",
       "    <tr style=\"text-align: right;\">\n",
       "      <th></th>\n",
       "      <th>date</th>\n",
       "      <th>region_id</th>\n",
       "      <th>type_id</th>\n",
       "      <th>volume</th>\n",
       "      <th>order_count</th>\n",
       "      <th>average</th>\n",
       "    </tr>\n",
       "  </thead>\n",
       "  <tbody>\n",
       "    <tr>\n",
       "      <th>0</th>\n",
       "      <td>2020-12-31</td>\n",
       "      <td>10000001</td>\n",
       "      <td>583</td>\n",
       "      <td>1</td>\n",
       "      <td>1</td>\n",
       "      <td>100000</td>\n",
       "    </tr>\n",
       "    <tr>\n",
       "      <th>1</th>\n",
       "      <td>2020-12-31</td>\n",
       "      <td>10000001</td>\n",
       "      <td>586</td>\n",
       "      <td>1</td>\n",
       "      <td>1</td>\n",
       "      <td>100000</td>\n",
       "    </tr>\n",
       "    <tr>\n",
       "      <th>2</th>\n",
       "      <td>2020-12-31</td>\n",
       "      <td>10000001</td>\n",
       "      <td>587</td>\n",
       "      <td>1</td>\n",
       "      <td>1</td>\n",
       "      <td>390000</td>\n",
       "    </tr>\n",
       "    <tr>\n",
       "      <th>3</th>\n",
       "      <td>2020-12-31</td>\n",
       "      <td>10000001</td>\n",
       "      <td>591</td>\n",
       "      <td>1</td>\n",
       "      <td>1</td>\n",
       "      <td>400000</td>\n",
       "    </tr>\n",
       "    <tr>\n",
       "      <th>4</th>\n",
       "      <td>2020-12-31</td>\n",
       "      <td>10000001</td>\n",
       "      <td>593</td>\n",
       "      <td>18</td>\n",
       "      <td>1</td>\n",
       "      <td>200000</td>\n",
       "    </tr>\n",
       "    <tr>\n",
       "      <th>...</th>\n",
       "      <td>...</td>\n",
       "      <td>...</td>\n",
       "      <td>...</td>\n",
       "      <td>...</td>\n",
       "      <td>...</td>\n",
       "      <td>...</td>\n",
       "    </tr>\n",
       "    <tr>\n",
       "      <th>20262</th>\n",
       "      <td>2020-07-29</td>\n",
       "      <td>10000001</td>\n",
       "      <td>12735</td>\n",
       "      <td>1</td>\n",
       "      <td>1</td>\n",
       "      <td>50000000</td>\n",
       "    </tr>\n",
       "    <tr>\n",
       "      <th>20263</th>\n",
       "      <td>2020-07-29</td>\n",
       "      <td>10000001</td>\n",
       "      <td>12753</td>\n",
       "      <td>1</td>\n",
       "      <td>1</td>\n",
       "      <td>300900000</td>\n",
       "    </tr>\n",
       "    <tr>\n",
       "      <th>20264</th>\n",
       "      <td>2020-07-29</td>\n",
       "      <td>10000001</td>\n",
       "      <td>23757</td>\n",
       "      <td>2</td>\n",
       "      <td>2</td>\n",
       "      <td>1099500000</td>\n",
       "    </tr>\n",
       "    <tr>\n",
       "      <th>20265</th>\n",
       "      <td>2020-07-29</td>\n",
       "      <td>10000001</td>\n",
       "      <td>23911</td>\n",
       "      <td>1</td>\n",
       "      <td>1</td>\n",
       "      <td>1000000000</td>\n",
       "    </tr>\n",
       "    <tr>\n",
       "      <th>20266</th>\n",
       "      <td>2020-07-29</td>\n",
       "      <td>10000001</td>\n",
       "      <td>24698</td>\n",
       "      <td>1</td>\n",
       "      <td>1</td>\n",
       "      <td>45000000</td>\n",
       "    </tr>\n",
       "  </tbody>\n",
       "</table>\n",
       "<p>20267 rows × 6 columns</p>\n",
       "</div>"
      ],
      "text/plain": [
       "             date  region_id  type_id  volume  order_count     average\n",
       "0      2020-12-31   10000001      583       1            1      100000\n",
       "1      2020-12-31   10000001      586       1            1      100000\n",
       "2      2020-12-31   10000001      587       1            1      390000\n",
       "3      2020-12-31   10000001      591       1            1      400000\n",
       "4      2020-12-31   10000001      593      18            1      200000\n",
       "...           ...        ...      ...     ...          ...         ...\n",
       "20262  2020-07-29   10000001    12735       1            1    50000000\n",
       "20263  2020-07-29   10000001    12753       1            1   300900000\n",
       "20264  2020-07-29   10000001    23757       2            2  1099500000\n",
       "20265  2020-07-29   10000001    23911       1            1  1000000000\n",
       "20266  2020-07-29   10000001    24698       1            1    45000000\n",
       "\n",
       "[20267 rows x 6 columns]"
      ]
     },
     "execution_count": 36,
     "metadata": {},
     "output_type": "execute_result"
    }
   ],
   "source": [
    "average_prices"
   ]
  },
  {
   "cell_type": "code",
   "execution_count": 30,
   "metadata": {},
   "outputs": [],
   "source": [
    "def get_faction_warfare_stats_by_faction(db_credentials):\n",
    "    \"\"\"\n",
    "    Queries the faction_warfare_stats_history table and returns a dictionary of DataFrames for each unique faction_id.\n",
    "\n",
    "    Parameters:\n",
    "    db_credentials (dict): Database connection credentials including dbname, user, password, host, and port.\n",
    "\n",
    "    Returns:\n",
    "    dict: A dictionary where each key is a faction_id and each value is a DataFrame containing all entries for that faction_id.\n",
    "    \"\"\"\n",
    "    faction_dataframes = {}\n",
    "\n",
    "    try:\n",
    "        # Connect to the database\n",
    "        conn = psycopg2.connect(**db_credentials)\n",
    "        cur = conn.cursor()\n",
    "\n",
    "        # Get unique faction_ids\n",
    "        cur.execute(\"SELECT DISTINCT faction_id FROM faction_warfare_stats_history\")\n",
    "        faction_ids = cur.fetchall()\n",
    "\n",
    "        for faction_id in faction_ids:\n",
    "            # Query all entries for the current faction_id\n",
    "            query = \"\"\"\n",
    "                SELECT * FROM faction_warfare_stats_history WHERE faction_id = %s\n",
    "            \"\"\"\n",
    "            cur.execute(query, (faction_id,))\n",
    "            rows = cur.fetchall()\n",
    "            \n",
    "            # Assuming you know the column names and order, if not you should fetch them as well\n",
    "            column_names = [desc[0] for desc in cur.description]\n",
    "            \n",
    "            # Create a DataFrame for the current faction_id and add it to the dictionary\n",
    "            df = pd.DataFrame(rows, columns=column_names)\n",
    "            faction_dataframes[faction_id[0]] = df\n",
    "\n",
    "    except Exception as e:\n",
    "        print(f\"Failed to fetch data due to {e}\")\n",
    "        return {}\n",
    "\n",
    "    finally:\n",
    "        # Clean up the database connections\n",
    "        if cur is not None:\n",
    "            cur.close()\n",
    "        if conn is not None:\n",
    "            conn.close()\n",
    "\n",
    "    return faction_dataframes, faction_ids"
   ]
  },
  {
   "cell_type": "code",
   "execution_count": 31,
   "metadata": {},
   "outputs": [],
   "source": [
    "faction_dfs, faction_ids = get_faction_warfare_stats_by_faction(db_credentials)\n"
   ]
  },
  {
   "cell_type": "code",
   "execution_count": 32,
   "metadata": {},
   "outputs": [
    {
     "data": {
      "text/plain": [
       "[(500010,), (500004,), (500002,), (500011,), (500003,), (500001,)]"
      ]
     },
     "execution_count": 32,
     "metadata": {},
     "output_type": "execute_result"
    }
   ],
   "source": [
    "faction_ids"
   ]
  },
  {
   "cell_type": "code",
   "execution_count": 33,
   "metadata": {},
   "outputs": [
    {
     "data": {
      "text/plain": [
       "345"
      ]
     },
     "execution_count": 33,
     "metadata": {},
     "output_type": "execute_result"
    }
   ],
   "source": [
    "len(faction_dfs[500001])"
   ]
  },
  {
   "cell_type": "code",
   "execution_count": null,
   "metadata": {},
   "outputs": [],
   "source": []
  }
 ],
 "metadata": {
  "kernelspec": {
   "display_name": "eve_trading",
   "language": "python",
   "name": "python3"
  },
  "language_info": {
   "codemirror_mode": {
    "name": "ipython",
    "version": 3
   },
   "file_extension": ".py",
   "mimetype": "text/x-python",
   "name": "python",
   "nbconvert_exporter": "python",
   "pygments_lexer": "ipython3",
   "version": "3.9.18"
  }
 },
 "nbformat": 4,
 "nbformat_minor": 2
}
